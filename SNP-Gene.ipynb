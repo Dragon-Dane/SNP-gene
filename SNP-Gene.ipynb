{
 "cells": [
  {
   "cell_type": "markdown",
   "metadata": {},
   "source": [
    "Identify relationships between Prostate cancer associated SNPs and genes"
   ]
  },
  {
   "cell_type": "code",
   "execution_count": 1,
   "metadata": {},
   "outputs": [],
   "source": [
    "# Load the required packages\n",
    "from neo4j import GraphDatabase\n",
    "import pandas as pd"
   ]
  },
  {
   "cell_type": "code",
   "execution_count": null,
   "metadata": {},
   "outputs": [],
   "source": [
    "# Set the genomic parameters\n",
    "delta_bp = 1000000\n",
    "FC_cutoff = 1.5\n",
    "p_value = 0.0001"
   ]
  },
  {
   "cell_type": "code",
   "execution_count": 103,
   "metadata": {},
   "outputs": [],
   "source": [
    "# Setup a connection to the database\n",
    "driver = GraphDatabase.driver(\"bolt://localhost:7687\")\n",
    "session =  driver.session()"
   ]
  },
  {
   "cell_type": "code",
   "execution_count": 3,
   "metadata": {},
   "outputs": [],
   "source": [
    "# Read in the data of Farashi et al. that is used as a reference set\n",
    "farashi = pd.read_excel(\"Input sets/Farashi/41568_2018_87_MOESM1_ESM-3.xls\", header = 1)\n",
    "\n",
    "# Remove the empty rows at the bottom\n",
    "farashi = farashi[farashi[\"SNP ID\"].notnull() & farashi[\"Target/assigned/e-Gene\"].notnull()]"
   ]
  },
  {
   "cell_type": "code",
   "execution_count": 4,
   "metadata": {},
   "outputs": [],
   "source": [
    "# Replace fault-inducing postfixes for snp data\n",
    "farashi[\"SNP ID\"] = farashi[\"SNP ID\"].str.strip()\n",
    "farashi[\"SNP ID\"].replace(\"(_A)|(_C)\", \"\", regex = True, inplace = True)\n",
    "\n",
    "# Remove entries without valid rs identifiers\n",
    "farashi.drop(farashi[farashi[\"SNP ID\"].str.startswith(\"chr\")].index, inplace = True)"
   ]
  },
  {
   "cell_type": "markdown",
   "metadata": {},
   "source": [
    "Not all gene names appear to be correct, and could therefore be found in PathwayStudio. These were therefore searched on https://www.ncbi.nlm.nih.gov/gene/ to identify their updaed names"
   ]
  },
  {
   "cell_type": "code",
   "execution_count": 5,
   "metadata": {},
   "outputs": [],
   "source": [
    "# Create separate entries for cells with delimited genes\n",
    "farashi = farashi.assign(gene=farashi[\"Target/assigned/e-Gene\"].str.split(';')).explode('gene')\n",
    "\n",
    "# Some gene names are outdated/erroneous. These are manually mapped to correct genes as based on ncbi.org/gene\n",
    "gene_replacement_dictionary = { \"MSMB1\" : \"MSMB\",\n",
    "                                \"MSMB2\" : \"MSMB\",\n",
    "                                \"NCOA4-1\" : \"NCOA4P1\",\n",
    "                                \"NCOA4-3\" : \"NCOA4P3\", \n",
    "                                \"ANKRD5\" : \"ANKEF1\", \n",
    "                                \"C6orf228\" : \"SMIM13\",\n",
    "                                \"c-MYC, FoxA1 binding\" : \"MYC\",\n",
    "                                \"HoxB13\" : \"HOXB13\",\n",
    "                                \"LASS2\" : \"CERS2\",\n",
    "                                \"C10orf32\" : \"BORCS7\",\n",
    "                                \"LOC100505761\" : \"RPARP-AS1\",\n",
    "                                \"LOC100505495\" : \"PCAT19\",\n",
    "                                \"WDR52\" : \"CFAP44\",\n",
    "                                \"HCG4P6\" : \"HCG4B\",\n",
    "                                \"LOC285830\" : \"HLA-F-AS1\",\n",
    "                                \"RAB7L1\" : \"RAB29\",\n",
    "                                \"LOC284578\" : \"MFSD4A-AS1\",\n",
    "                                \"AGAP7\" : \"AGAP7P\",\n",
    "                                \"C2orf43\" : \"LDAH\"}\n",
    "\n",
    "farashi[\"Target/assigned/e-Gene\"] = farashi[\"Target/assigned/e-Gene\"].replace(gene_replacement_dictionary)\n",
    "\n",
    "# Strip whitespaces\n",
    "farashi[\"SNP ID\"] = farashi[\"SNP ID\"].str.strip()"
   ]
  },
  {
   "cell_type": "code",
   "execution_count": 6,
   "metadata": {},
   "outputs": [],
   "source": [
    "# TODO: Aantal genen en SNPs per studie laten zien"
   ]
  },
  {
   "cell_type": "code",
   "execution_count": null,
   "metadata": {},
   "outputs": [],
   "source": [
    "# Negatieven identificeren die binnen bepaalde range liggen\n",
    "import pyensembl"
   ]
  },
  {
   "cell_type": "code",
   "execution_count": 7,
   "metadata": {},
   "outputs": [],
   "source": [
    "# Remove entries that are based on a single eQTL study, or that are found in the exon/coding region\n",
    "eQTL_studies = [\"Dadaev T. et al. 2018\", \"Grisanzio, C. et al.  2012\", \"X. xu et al. 2014\", \"Thibodeau S.N.  et al. 2015\"]\n",
    "coding_snps = [\"Coding region\", \"exonic\"]"
   ]
  },
  {
   "cell_type": "code",
   "execution_count": 88,
   "metadata": {},
   "outputs": [],
   "source": [
    "nodes = session.run(\"Match (n) WHERE n.name IN \" + str(list(set(farashi[\"Target/assigned/e-Gene\"]))) + \" RETURN n\").value()"
   ]
  },
  {
   "cell_type": "code",
   "execution_count": 9,
   "metadata": {},
   "outputs": [
    {
     "name": "stdout",
     "output_type": "stream",
     "text": [
      "querying 1-1000...done.\n",
      "querying 1001-1140...done.\n",
      "Finished.\n",
      "459 input query terms found dup hits:\n",
      "\t[('rs17882350', 2), ('rs13190729', 2), ('rs76837457', 2), ('rs73106451', 2), ('rs28749132', 2), ('rs\n",
      "50 input query terms found no hit:\n",
      "\t['rs527768094', 'rs397887654', 'rs139078838', 'rs572943237', 'rs5875234', 'rs527588882', 'rs57334129\n"
     ]
    }
   ],
   "source": [
    "# Get the SNP properties from dbsnp\n",
    "import myvariant\n",
    "mv = myvariant.MyVariantInfo()\n",
    "   \n",
    "dbsnp = mv.querymany(list(set(farashi[\"SNP ID\"])), scopes='dbsnp.rsid', fields='dbsnp', returnall = True)"
   ]
  },
  {
   "cell_type": "code",
   "execution_count": 10,
   "metadata": {},
   "outputs": [],
   "source": [
    "# Validate the mappings"
   ]
  },
  {
   "cell_type": "code",
   "execution_count": 12,
   "metadata": {},
   "outputs": [],
   "source": [
    "# Extract the gene expression data"
   ]
  },
  {
   "cell_type": "code",
   "execution_count": 127,
   "metadata": {},
   "outputs": [],
   "source": [
    "# Get the incoming and outgoing paths of the genes\n",
    "direct = pd.DataFrame(session.run(\"Match p = (n)-[r]-(x:Protein)\" +\n",
    "                                  \" WHERE n.name IN \" + str(list(farashi[\"Target/assigned/e-Gene\"])) + \n",
    "                                  \" RETURN startnode(r).name AS start,\" +\n",
    "                                  \" type(r) AS relationship,\" + \n",
    "                                  \" r.pmid AS pmid,\" +\n",
    "                                  \" length(r.pmid) AS npmid,\" + \n",
    "                                  \" endnode(r).name AS end\").data())"
   ]
  },
  {
   "cell_type": "code",
   "execution_count": 118,
   "metadata": {},
   "outputs": [],
   "source": [
    "# Get the indirect outgoing paths\n",
    "outgoing = pd.DataFrame(session.run(\"Match p = (n)-[r]->(x:Protein)-[r2]->(y:Protein)\" +\n",
    "                                    \" WHERE n.name IN \" + str(list(set(farashi[\"Target/assigned/e-Gene\"]))) +\n",
    "                                    \" RETURN startnode(r).name AS start,\" +\n",
    "                                    \" type(r) AS relationship1,\" +\n",
    "                                    \" r.pmid AS pmid1,\" +\n",
    "                                    \" length(r.pmid) AS npmid1,\" +\n",
    "                                    \" endnode(r).name AS middle,\" +\n",
    "                                    \" type(r2) AS relationship2,\" +\n",
    "                                    \" r2.pmid AS pmid2,\" +\n",
    "                                    \" length(r2.pmid) AS npmid2,\" +\n",
    "                                    \" endnode(r2).name AS end\").data())"
   ]
  },
  {
   "cell_type": "code",
   "execution_count": 123,
   "metadata": {},
   "outputs": [],
   "source": [
    "# Get the indirect incoming paths\n",
    "outgoing = pd.DataFrame(session.run(\"Match p = (x:Protein)-[r]->(y:Protein)-[r2]->(n)\"\n",
    "                                    \" WHERE n.name IN \" + str(list(set(farashi[\"Target/assigned/e-Gene\"]))) +\n",
    "                                    \" RETURN startnode(r).name AS start,\" +\n",
    "                                    \" type(r) AS relationship1,\" +\n",
    "                                    \" r.pmid AS pmid1,\" +\n",
    "                                    \" length(r.pmid) AS npmid1,\" +\n",
    "                                    \" endnode(r).name AS middle,\" +\n",
    "                                    \" type(r2) AS relationship2,\" +\n",
    "                                    \" r2.pmid AS pmid2,\" +\n",
    "                                    \" length(r2.pmid) AS npmid2,\" +\n",
    "                                    \" endnode(r2).name AS end\").data())"
   ]
  },
  {
   "cell_type": "code",
   "execution_count": null,
   "metadata": {},
   "outputs": [],
   "source": [
    "## Get shapes\n",
    "# Triangles query\n",
    "# Not exists clauses toevoegen\n",
    "# nodes laten returnen om unieke combinaties te filteren\n",
    "triangles = \"Match p = (n)--(i:Protein)--(i2:Protein)--(n) WHERE n.name = '\" + 'KLRK1' + \"' RETURN COUNT(DISTINCT(p))\"\n",
    "#squares = \"Match p = (n)--(i:Protein)--(i2:Protein)--(i3:Protein)--(n) WHERE n.name = '\" +  + \"' RETURN COUNT(p)\"\n",
    "#diagonalSquares = \"Match p = (n)-[r]-(i:Protein)-[r2]-(i2:Protein)-[r3]-(i3:Protein)-[r4]-(n)-[r5]-(i2:Protein) WHERE n.name = '\" +  + \"' RETURN COUNT(p)\"\n",
    "#diagonalSquares2 = \"Match p = (i3:Protein)-[r5]-(n)-[r]-(i:Protein)-[r2]-(i2:Protein)-[r3]-(i3:Protein)-[r4]-(i:Protein) WHERE n.name = '\" +  + \"' RETURN COUNT(p)\"\n",
    "\n",
    "test = session.run(triangles)"
   ]
  },
  {
   "cell_type": "code",
   "execution_count": null,
   "metadata": {},
   "outputs": [],
   "source": [
    "# Calculate network statistics such as eigenvector centrality "
   ]
  }
 ],
 "metadata": {
  "kernelspec": {
   "display_name": "Python 3",
   "language": "python",
   "name": "python3"
  },
  "language_info": {
   "codemirror_mode": {
    "name": "ipython",
    "version": 3
   },
   "file_extension": ".py",
   "mimetype": "text/x-python",
   "name": "python",
   "nbconvert_exporter": "python",
   "pygments_lexer": "ipython3",
   "version": "3.7.9"
  }
 },
 "nbformat": 4,
 "nbformat_minor": 4
}
