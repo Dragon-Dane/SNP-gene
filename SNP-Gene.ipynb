{
 "cells": [
  {
   "cell_type": "markdown",
   "metadata": {},
   "source": [
    "# Identify relationships between Prostate cancer associated SNPs and genes"
   ]
  },
  {
   "cell_type": "code",
   "execution_count": 1,
   "metadata": {},
   "outputs": [],
   "source": [
    "# Load the required packages\n",
    "from neo4j import GraphDatabase\n",
    "import pandas as pd"
   ]
  },
  {
   "cell_type": "markdown",
   "metadata": {},
   "source": [
    "## Setting parameters and creating connection to Neo4J"
   ]
  },
  {
   "cell_type": "code",
   "execution_count": 20,
   "metadata": {},
   "outputs": [],
   "source": [
    "# Set the genomic parameters\n",
    "delta_bp = 10000\n",
    "FC_cutoff = 1.5\n",
    "FDR_cutoff = 0.0001"
   ]
  },
  {
   "cell_type": "code",
   "execution_count": 3,
   "metadata": {},
   "outputs": [],
   "source": [
    "# Setup a connection to the database\n",
    "driver = GraphDatabase.driver(\"bolt://localhost:7687\")\n",
    "session =  driver.session()"
   ]
  },
  {
   "cell_type": "markdown",
   "metadata": {},
   "source": [
    "## Loading and modifying the reference set"
   ]
  },
  {
   "cell_type": "code",
   "execution_count": 3,
   "metadata": {},
   "outputs": [],
   "source": [
    "# Read in the data of Farashi et al. that is used as a reference set\n",
    "farashi = pd.read_excel(\"Input sets/Farashi/41568_2018_87_MOESM1_ESM-3.xls\", header = 1)\n",
    "\n",
    "# Remove the empty rows at the bottom\n",
    "farashi = farashi[farashi[\"SNP ID\"].notnull() & farashi[\"Target/assigned/e-Gene\"].notnull()]"
   ]
  },
  {
   "cell_type": "code",
   "execution_count": 4,
   "metadata": {},
   "outputs": [],
   "source": [
    "# Replace fault-inducing postfixes for snp data\n",
    "farashi[\"SNP ID\"] = farashi[\"SNP ID\"].str.strip()\n",
    "farashi[\"SNP ID\"].replace(\"(_A)|(_C)\", \"\", regex = True, inplace = True)\n",
    "\n",
    "# Remove entries without valid rs identifiers\n",
    "farashi.drop(farashi[farashi[\"SNP ID\"].str.startswith(\"chr\")].index, inplace = True)"
   ]
  },
  {
   "cell_type": "markdown",
   "metadata": {},
   "source": [
    "### Updating gene names and SNP ID's in reference set"
   ]
  },
  {
   "cell_type": "markdown",
   "metadata": {},
   "source": [
    "Not all gene names appear to be correct, and could therefore be found in PathwayStudio. These were therefore searched on https://www.ncbi.nlm.nih.gov/gene/ to identify their updaed names"
   ]
  },
  {
   "cell_type": "code",
   "execution_count": 5,
   "metadata": {},
   "outputs": [],
   "source": [
    "# Create separate entries for cells with delimited genes\n",
    "farashi = farashi.assign(gene=farashi[\"Target/assigned/e-Gene\"].str.split(';')).explode('gene')\n",
    "\n",
    "# Some gene names are outdated/erroneous. These are manually mapped to correct genes as based on ncbi.org/gene\n",
    "gene_replacement_dictionary = { \"MSMB1\" : \"MSMB\",\n",
    "                                \"MSMB2\" : \"MSMB\",\n",
    "                                \"NCOA4-1\" : \"NCOA4P1\",\n",
    "                                \"NCOA4-3\" : \"NCOA4P3\", \n",
    "                                \"ANKRD5\" : \"ANKEF1\", \n",
    "                                \"C6orf228\" : \"SMIM13\",\n",
    "                                \"c-MYC, FoxA1 binding\" : \"MYC\",\n",
    "                                \"HoxB13\" : \"HOXB13\",\n",
    "                                \"LASS2\" : \"CERS2\",\n",
    "                                \"C10orf32\" : \"BORCS7\",\n",
    "                                \"LOC100505761\" : \"RPARP-AS1\",\n",
    "                                \"LOC100505495\" : \"PCAT19\",\n",
    "                                \"WDR52\" : \"CFAP44\",\n",
    "                                \"HCG4P6\" : \"HCG4B\",\n",
    "                                \"LOC285830\" : \"HLA-F-AS1\",\n",
    "                                \"RAB7L1\" : \"RAB29\",\n",
    "                                \"LOC284578\" : \"MFSD4A-AS1\",\n",
    "                                \"AGAP7\" : \"AGAP7P\",\n",
    "                                \"C2orf43\" : \"LDAH\"}\n",
    "\n",
    "farashi[\"Target/assigned/e-Gene\"] = farashi[\"Target/assigned/e-Gene\"].replace(gene_replacement_dictionary)\n",
    "\n",
    "# Strip whitespaces\n",
    "farashi[\"SNP ID\"] = farashi[\"SNP ID\"].str.strip()"
   ]
  },
  {
   "cell_type": "markdown",
   "metadata": {},
   "source": [
    "Similar to the genes, some of the SNP ID's need to be updated as well, as they have been merged with other rs identifiers\n",
    "\n",
    "These invalid rs identifiers can be found in the next step, where dbSNP is queried.\n",
    "These missing rs identifiers were subsequently queried on https://www.ncbi.nlm.nih.gov/snp/, where their updated rs identifier was retrieved.\n",
    "\n",
    "Nonetheless, some rs identifiers could not be found on the dbsnp at all, even to map it. These were removed from the reference set."
   ]
  },
  {
   "cell_type": "code",
   "execution_count": 6,
   "metadata": {},
   "outputs": [],
   "source": [
    "# Create a mapping dictionary\n",
    "snp_replacement_dictionary = {\"rs565245309\" : \"rs10700825\",\n",
    "                              \"rs397764955\" : \"rs11371876\",\n",
    "                              \"rs567544918\" : \"rs143009074\",\n",
    "                              \"rs68007409\" : \"rs58061354\",\n",
    "                              \"rs576874987\" : \"rs2735090\",\n",
    "                              \"rs56969947\" : \"rs5794883\",\n",
    "                              \"rs71390080\" : \"rs35883900\",\n",
    "                              \"rs397885676\" : \"rs35853071\",\n",
    "                              \"rs563936332\" : \"rs11425106\",\n",
    "                              \"rs570238728\" :  \"rs2735091\",\n",
    "                              \"rs386572937\" : \"rs2735095\",\n",
    "                              \"rs368454874\" : \"rs5875242\",\n",
    "                              \"rs576956856\" : \"rs557303655\",\n",
    "                              \"rs527768094\" : \"rs3115587\",\n",
    "                              \"rs34421549\" : \"rs11281315\",\n",
    "                              \"rs543833159\" : \"rs9261476\",\n",
    "                              \"rs573341295\" : \"rs3083610\",\n",
    "                              \"rs397841490\" : \"rs3839562\",\n",
    "                              \"rs72562630\" : \"rs10643878\",\n",
    "                              \"rs67276543\" : \"rs34884832\",\n",
    "                              \"rs113645266\" : \"rs6557271\",\n",
    "                              \"rs540840764\" : \"rs9278594\",\n",
    "                              \"rs145076668\" : \"rs34837204\",\n",
    "                              \"rs79588872\" : \"rs35538902\",\n",
    "                              \"rs397847839\" : \"rs35826034\",\n",
    "                              \"rs551993434\" : \"rs11371951\",\n",
    "                              \"rs113130272\" : \"rs11153141\",\n",
    "                              \"rs114376585\" : \"rs3096702\",\n",
    "                              \"rs527588882\" : \"rs9278592\",\n",
    "                              \"rs144721865\" : \"rs9368661\",\n",
    "                              \"rs572291073\" : \"rs2571388\",\n",
    "                              \"rs376201080\" : \"rs142474496\",\n",
    "                              \"rs34948850\" : \"rs10688614\",\n",
    "                              \"rs397887654\" : \"rs36076724\",\n",
    "                              \"rs114473420\" : \"rs3135340\",\n",
    "                              \"rs371043306\" : \"rs145380596\",\n",
    "                              \"rs572943237\" : \"rs11421756\",\n",
    "                              \"rs139078838\" : \"rs9501073\",\n",
    "                              \"rs539183916\" : \"rs2437062\",\n",
    "                              \"rs386410791\" : \"rs141020575\",\n",
    "                              \"rs141507970\" : \"rs9267919\",\n",
    "                              \"rs397823414\" : \"rs35850123\",\n",
    "                              \"rs63475060\" : \"rs5875246\",\n",
    "                              \"rs139104997\" : \"rs9261481\",\n",
    "                              \"rs150282463\" : \"rs13137700\",\n",
    "                              \"rs143466021\" : \"rs9269108\",\n",
    "                              \"rs5875234\" : \"rs3058350\"\n",
    "                             }\n",
    "\n",
    "not_found_dbsnp = {\"rs77010356\", \"rs60284051\", \"rs563604877\"}\n",
    "\n",
    "# Strip whitespaces\n",
    "farashi[\"SNP ID\"] = farashi[\"SNP ID\"].replace(snp_replacement_dictionary)"
   ]
  },
  {
   "cell_type": "code",
   "execution_count": 7,
   "metadata": {},
   "outputs": [
    {
     "name": "stdout",
     "output_type": "stream",
     "text": [
      "querying 1-1000...done.\n",
      "querying 1001-1139...done.\n",
      "Finished.\n",
      "482 input query terms found dup hits:\n",
      "\t[('rs6785962', 3), ('rs57471960', 2), ('rs6096208', 2), ('rs2191139', 3), ('rs5832650', 5), ('rs1115\n",
      "3 input query terms found no hit:\n",
      "\t['rs77010356', 'rs60284051', 'rs563604877']\n"
     ]
    }
   ],
   "source": [
    "# Get the SNP properties from dbsnp\n",
    "import myvariant\n",
    "mv = myvariant.MyVariantInfo()\n",
    "   \n",
    "dbsnp = mv.querymany(list(set(farashi[\"SNP ID\"])), scopes='dbsnp.rsid', fields='dbsnp', returnall = True)\n",
    "if not_found_dbsnp == set(dbsnp[\"missing\"]): print(\"Only known SNPs missing\")"
   ]
  },
  {
   "cell_type": "code",
   "execution_count": 8,
   "metadata": {},
   "outputs": [],
   "source": [
    "# Merge the dbSNP data with the reference set\n",
    "dbsnp_tab = pd.DataFrame(dbsnp[\"out\"])\n",
    "\n",
    "# Drop the rs ids that were not found\n",
    "dbsnp_tab.drop(dbsnp_tab[dbsnp_tab[\"notfound\"] == True].index, inplace = True)\n",
    "\n",
    "dbsnp_tab[\"chromosome\"] = dbsnp_tab[\"dbsnp\"].apply(lambda x: x[\"chrom\"])\n",
    "dbsnp_tab[\"location\"] = dbsnp_tab[\"dbsnp\"].apply(lambda x: x[\"hg19\"][\"start\"] if \"hg19\" in x.keys() else None)\n",
    "dbsnp_tab[\"ref\"] = dbsnp_tab[\"dbsnp\"].apply(lambda x: x[\"ref\"])\n",
    "dbsnp_tab[\"alt\"] = dbsnp_tab[\"dbsnp\"].apply(lambda x: x[\"alt\"])\n",
    "\n",
    "# Drop entries that do not have a chromosome location\n",
    "dbsnp_tab.drop(dbsnp_tab[dbsnp_tab[\"location\"].isnull()].index, inplace = True)\n",
    "dbsnp_tab[\"location\"] = dbsnp_tab[\"location\"].astype(int)\n",
    "\n",
    "positives = farashi.merge(dbsnp_tab[[\"query\", \"chromosome\", \"location\", \"ref\", \"alt\"]], how = \"inner\", left_on = \"SNP ID\", right_on = \"query\")"
   ]
  },
  {
   "cell_type": "markdown",
   "metadata": {},
   "source": [
    "### Properties of the reference set"
   ]
  },
  {
   "cell_type": "code",
   "execution_count": 7,
   "metadata": {},
   "outputs": [],
   "source": [
    "# TODO: Aantal genen en SNPs per studie laten zien\n",
    "# Ook aantal genen per SNP laten zien"
   ]
  },
  {
   "cell_type": "markdown",
   "metadata": {},
   "source": [
    "### Filtering the reference set"
   ]
  },
  {
   "cell_type": "code",
   "execution_count": 8,
   "metadata": {},
   "outputs": [],
   "source": [
    "# Remove entries that are based on a single eQTL study, or that are found in the exon/coding region\n",
    "eQTL_studies = [\"Dadaev T. et al. 2018\", \"Grisanzio, C. et al.  2012\", \"X. xu et al. 2014\", \"Thibodeau S.N.  et al. 2015\"]\n",
    "coding_snps = [\"Coding region\", \"exonic\"]"
   ]
  },
  {
   "cell_type": "markdown",
   "metadata": {},
   "source": [
    "### Properties of the modified reference set"
   ]
  },
  {
   "cell_type": "code",
   "execution_count": 9,
   "metadata": {},
   "outputs": [],
   "source": [
    "nodes = session.run(\"Match (n) WHERE n.name IN \" + str(list(set(farashi[\"Target/assigned/e-Gene\"]))) + \" RETURN n\").value()"
   ]
  },
  {
   "cell_type": "code",
   "execution_count": 11,
   "metadata": {},
   "outputs": [],
   "source": [
    "# Validate the mappings"
   ]
  },
  {
   "cell_type": "markdown",
   "metadata": {},
   "source": [
    "## Gene expression data"
   ]
  },
  {
   "cell_type": "markdown",
   "metadata": {},
   "source": [
    "Now that we have our reference set, we obtain the gene-expression data.\n",
    "This data is obtained from a separate Next-Generation sequencing dataset, which compared the expression of men with prostate cancer, to that of men without prostate cancer."
   ]
  },
  {
   "cell_type": "code",
   "execution_count": 9,
   "metadata": {},
   "outputs": [],
   "source": [
    "# Extract the gene expression data\n",
    "cols = pd.read_csv(\"Input sets/Gene expression data/design_matrix_prostate_unpaired.txt\", delimiter = \"\\t\")\n",
    "reads = pd.read_csv(\"Input sets/Gene expression data/expression_matrix_prostate_clean.txt\", delimiter = \"\\t\")\n",
    "# Read in the differential expression calculations\n",
    "dex = pd.read_csv(\"Input sets/Gene expression data/Galaxy37-[edgeR_DGE_on_2__design_matrix_prostate_unpaired.txt_-_differentially_expressed_genes].tabular.annotated.txt\", \n",
    "                  delimiter = \"\\t\", index_col = 0, names = [\"ENSEMBL\", \"gene\", \"logFC\", \"logCPM\", \"LR\", \"pValue\", \"FDR\"], header = 0)\n",
    "dex[\"ENSEMBL\"].replace(\"(\\.\\d+)\", \"\", regex = True, inplace = True)\n",
    "\n",
    "reads[\"total\"] = reads.sum(axis = 1, numeric_only = True)\n",
    "reads[\"freq\"] = ((reads[list(cols[\"samplename\"])] > 0) * 1).sum(axis = 1)\n",
    "reads[\"gene_ids\"].replace(\"(\\.\\d+)\", \"\", regex = True, inplace = True)\n",
    "\n",
    "reads = reads.merge(dex, left_on = \"gene_ids\", right_on = \"ENSEMBL\", how = \"outer\")"
   ]
  },
  {
   "cell_type": "code",
   "execution_count": 14,
   "metadata": {},
   "outputs": [],
   "source": []
  },
  {
   "cell_type": "code",
   "execution_count": 10,
   "metadata": {},
   "outputs": [],
   "source": [
    "# Initiate the connection to the database (first time you may have to run ensembl.download() and ensembl.index() first)\n",
    "# To align with our reference set, we take a Ensembl version from 2019\n",
    "from pyensembl import EnsemblRelease\n",
    "ensembl = EnsemblRelease(92)\n",
    "\n",
    "# Function to extract the data (and prevent superfluous queries)\n",
    "def getEnsemblData(id):\n",
    "    try:\n",
    "        data = ensembl.gene_by_id(id)\n",
    "        return pd.Series({\"gene_name\" : data.gene_name, \n",
    "                          \"chromosome\" : data.contig, \n",
    "                          \"start\" : data.start,\n",
    "                          \"stop\" : data.end,\n",
    "                          \"protein_coding\" : data.is_protein_coding})\n",
    "    except ValueError:\n",
    "        return pd.Series({\"gene_name\" : None, \n",
    "                          \"chromosome\" : None, \n",
    "                          \"start\" : None,\n",
    "                          \"stop\" : None,\n",
    "                          \"protein_coding\" : None})\n",
    "\n",
    "# Remove the postifxes of the gene identifiers\n",
    "reads[\"gene_ids\"].replace(\"\\.\\d\", \"\", regex = True, inplace = True)\n",
    "reads[[\"gene_name\", \"chromosome\", \"start\", \"stop\", \"protein_coding\"]] = reads[\"gene_ids\"].apply(lambda x: getEnsemblData(x))\n",
    "\n",
    "# Drop the mitochondrial genes and the entries that could not be found\n",
    "reads.drop(reads[reads[\"chromosome\"].isin([\"MT\", None])].index, inplace = True)"
   ]
  },
  {
   "cell_type": "code",
   "execution_count": 21,
   "metadata": {},
   "outputs": [],
   "source": [
    "# Create a dataframe of all combinations of SNPs and genes that are on the same chromosome\n",
    "positives[\"location\"] = positives[\"location\"].astype(int)\n",
    "snp_candidates = positives[[\"SNP ID\", \"chromosome\", \"location\"]].merge(reads[[\"gene_ids\", \"gene_name\", \"chromosome\", \"start\", \"stop\"]], on = \"chromosome\", how = \"inner\")\n",
    "\n",
    "# Select the pairs where the SNP window and the gene windows overlap\n",
    "snp_candidates[\"candidate\"] = snp_candidates.apply(lambda x: True if ((x[\"stop\"] >= x[\"location\"] - delta_bp and x[\"stop\"] <= x[\"location\"] + delta_bp) or \n",
    "                                                                      (x[\"start\"] >= x[\"location\"] - delta_bp and x[\"start\"] <= x[\"location\"] + delta_bp)) else False, axis = 1)\n",
    "snp_candidates.drop(snp_candidates[snp_candidates[\"candidate\"] == False].index, inplace = True)"
   ]
  },
  {
   "cell_type": "code",
   "execution_count": 16,
   "metadata": {},
   "outputs": [],
   "source": [
    "# Split up the dataset into cancer and non-cancer samples\n",
    "cancer = reads[[\"gene_ids\"] + list(cols.samplename[cols.condition == \"cancer\"])].copy()\n",
    "normal = reads[[\"gene_ids\"] + list(cols.samplename[cols.condition == \"normal\"])].copy()"
   ]
  },
  {
   "cell_type": "code",
   "execution_count": 17,
   "metadata": {},
   "outputs": [],
   "source": [
    "# Check whether all genes in the reference set are in the expression data\n",
    "len(set(farashi[\"Target/assigned/e-Gene\"]) - set(reads[\"gene_name\"]))"
   ]
  },
  {
   "cell_type": "code",
   "execution_count": 18,
   "metadata": {},
   "outputs": [],
   "source": [
    "# Calculate the fold change and p-values"
   ]
  },
  {
   "cell_type": "markdown",
   "metadata": {},
   "source": [
    "## Query all the incoming and outgoing pathway data for the genes"
   ]
  },
  {
   "cell_type": "code",
   "execution_count": 62,
   "metadata": {},
   "outputs": [],
   "source": [
    "# Get the incoming and outgoing paths of the genes\n",
    "direct = pd.DataFrame(session.run(\"Match p = (n)-[r]-(x:Protein)\" +\n",
    "                                  \" WHERE n.name IN \" + str(list(farashi[\"Target/assigned/e-Gene\"])) + \n",
    "                                  \" RETURN startnode(r).name AS start,\" +\n",
    "                                  \" type(r) AS relationship,\" + \n",
    "                                  \" r.pmid AS pmid,\" +\n",
    "                                  \" length(r.pmid) AS npmid,\" + \n",
    "                                  \" endnode(r).name AS end\").data())"
   ]
  },
  {
   "cell_type": "code",
   "execution_count": 63,
   "metadata": {},
   "outputs": [],
   "source": [
    "# Get the indirect outgoing paths\n",
    "outgoing = pd.DataFrame(session.run(\"Match p = (n)-[r]->(x:Protein)-[r2]->(y:Protein)\" +\n",
    "                                    \" WHERE n.name IN \" + str(list(set(farashi[\"Target/assigned/e-Gene\"]))) +\n",
    "                                    \" RETURN startnode(r).name AS start,\" +\n",
    "                                    \" type(r) AS relationship1,\" +\n",
    "                                    \" r.pmid AS pmid1,\" +\n",
    "                                    \" length(r.pmid) AS npmid1,\" +\n",
    "                                    \" endnode(r).name AS middle,\" +\n",
    "                                    \" type(r2) AS relationship2,\" +\n",
    "                                    \" r2.pmid AS pmid2,\" +\n",
    "                                    \" length(r2.pmid) AS npmid2,\" +\n",
    "                                    \" endnode(r2).name AS end\").data())"
   ]
  },
  {
   "cell_type": "code",
   "execution_count": 64,
   "metadata": {},
   "outputs": [],
   "source": [
    "# Get the indirect incoming paths\n",
    "incoming = pd.DataFrame(session.run(\"Match p = (x:Protein)-[r]->(y:Protein)-[r2]->(n)\"\n",
    "                                    \" WHERE n.name IN \" + str(list(set(farashi[\"Target/assigned/e-Gene\"]))) +\n",
    "                                    \" RETURN startnode(r).name AS start,\" +\n",
    "                                    \" type(r) AS relationship1,\" +\n",
    "                                    \" r.pmid AS pmid1,\" +\n",
    "                                    \" length(r.pmid) AS npmid1,\" +\n",
    "                                    \" endnode(r).name AS middle,\" +\n",
    "                                    \" type(r2) AS relationship2,\" +\n",
    "                                    \" r2.pmid AS pmid2,\" +\n",
    "                                    \" length(r2.pmid) AS npmid2,\" +\n",
    "                                    \" endnode(r2).name AS end\").data())"
   ]
  },
  {
   "cell_type": "code",
   "execution_count": 65,
   "metadata": {},
   "outputs": [],
   "source": [
    "# Create features based on paths"
   ]
  },
  {
   "cell_type": "code",
   "execution_count": null,
   "metadata": {},
   "outputs": [],
   "source": [
    "## Get shapes\n",
    "# Triangles query\n",
    "# Not exists clauses toevoegen\n",
    "# nodes laten returnen om unieke combinaties te filteren\n",
    "triangles = \"Match p = (n)--(i:Protein)--(i2:Protein)--(n) WHERE n.name = '\" + 'KLRK1' + \"' RETURN nodes(p)\"\n",
    "#squares = \"Match p = (n)--(i:Protein)--(i2:Protein)--(i3:Protein)--(n) WHERE n.name = '\" +  + \"' RETURN COUNT(p)\"\n",
    "#diagonalSquares = \"Match p = (n)-[r]-(i:Protein)-[r2]-(i2:Protein)-[r3]-(i3:Protein)-[r4]-(n)-[r5]-(i2:Protein) WHERE n.name = '\" +  + \"' RETURN COUNT(p)\"\n",
    "#diagonalSquares2 = \"Match p = (i3:Protein)-[r5]-(n)-[r]-(i:Protein)-[r2]-(i2:Protein)-[r3]-(i3:Protein)-[r4]-(i:Protein) WHERE n.name = '\" +  + \"' RETURN COUNT(p)\"\n",
    "\n",
    "test = session.run(triangles)"
   ]
  },
  {
   "cell_type": "code",
   "execution_count": null,
   "metadata": {},
   "outputs": [],
   "source": [
    "# Calculate network statistics such as eigenvector centrality \n",
    "# TODO: Alleen genen nemen die tot expressie komen, en alle relaties includeren\n",
    "eigenvector = \"CALL gds.alpha.eigenvector.stream({\" +\n",
    "              \" nodeProjection: 'Protein',\" +\n",
    "              \" relationshipProjection: 'Regulation'\" +\n",
    "              \"})\" + \n",
    "              \" YIELD nodeId, score\" + \n",
    "              \" RETURN gds.util.asNode(nodeId).name AS page, score\" + \n",
    "              \" ORDER BY score DESC\"\n",
    "\n",
    "degree = \"CALL gds.alpha.degree.stream({\" +\n",
    "              \" nodeProjection: 'Protein',\" +\n",
    "              \" relationshipProjection: 'Regulation'\" +\n",
    "              \"})\" + \n",
    "              \" YIELD nodeId, score\" + \n",
    "              \" RETURN gds.util.asNode(nodeId).name AS page, score\" + \n",
    "              \" ORDER BY score DESC\""
   ]
  },
  {
   "cell_type": "markdown",
   "metadata": {},
   "source": [
    "## Query pathway studio for information about Prostate cancer and it's associated pathways, and use it to filter the pathway information"
   ]
  },
  {
   "cell_type": "code",
   "execution_count": 11,
   "metadata": {},
   "outputs": [],
   "source": [
    "bla = session.run(\"MATCH (n:Disease) RETURN n.name ORDER BY n.name DESC\")"
   ]
  },
  {
   "cell_type": "code",
   "execution_count": 15,
   "metadata": {},
   "outputs": [
    {
     "data": {
      "text/plain": [
       "['prostate neoplasm', 'prostate carcinoma', 'prostate cancer']"
      ]
     },
     "execution_count": 15,
     "metadata": {},
     "output_type": "execute_result"
    }
   ],
   "source": [
    "import re\n",
    "\n",
    "r = re.compile(\"^prostate.*\")\n",
    "list(filter(r.match, out))"
   ]
  },
  {
   "cell_type": "code",
   "execution_count": 23,
   "metadata": {},
   "outputs": [],
   "source": [
    "# Extract the disease nodes for prostate cancer\n",
    "pca_names = ['prostate neoplasm',\n",
    "             'prostate carcinoma',\n",
    "             'prostate cancer']\n",
    "\n",
    "pca = session.run(\"MATCH (n:Disease) WHERE n.name IN \" + str(pca_names) + \" RETURN n.name, id(n)\").data()\n",
    "pca = dict(zip([x[\"n.name\"] for x in pca], [x[\"id(n)\"] for x in pca]))"
   ]
  },
  {
   "cell_type": "code",
   "execution_count": 43,
   "metadata": {},
   "outputs": [],
   "source": [
    "# Find relationships between the disease nodes --> pathways --> genes\n",
    "test = session.run(\"MATCH (n)-[r]->(path:Pathway)<-[r2]-(prot:Protein) WHERE id(n) IN \" + str(list(pca.values())) + \" RETURN path.name AS pathway, prot.name AS gene\").data()\n",
    "\n",
    "test2 = session.run(\"MATCH (n)-[r]->(prot:Protein) WHERE id(n) IN \" + str(list(pca.values())) + \" RETURN type(r) AS relationship, r.pmid AS pmid, prot.name AS gene\").data()"
   ]
  },
  {
   "cell_type": "code",
   "execution_count": null,
   "metadata": {},
   "outputs": [],
   "source": []
  }
 ],
 "metadata": {
  "kernelspec": {
   "display_name": "Python 3",
   "language": "python",
   "name": "python3"
  },
  "language_info": {
   "codemirror_mode": {
    "name": "ipython",
    "version": 3
   },
   "file_extension": ".py",
   "mimetype": "text/x-python",
   "name": "python",
   "nbconvert_exporter": "python",
   "pygments_lexer": "ipython3",
   "version": "3.7.9"
  }
 },
 "nbformat": 4,
 "nbformat_minor": 4
}
